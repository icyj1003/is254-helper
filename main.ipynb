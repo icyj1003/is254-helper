{
 "cells": [
  {
   "cell_type": "code",
   "execution_count": 7,
   "metadata": {},
   "outputs": [
    {
     "name": "stdout",
     "output_type": "stream",
     "text": [
      "Bai 1 initialized!\n",
      "--------------------------MINIMAX---------------------------\n",
      "|     |   Không kẹt xe |   Kẹt xe vừa |   Kẹt xe nghiệm trọng |   P |\n",
      "|:----|---------------:|-------------:|----------------------:|----:|\n",
      "| LT1 |              0 |            5 |                    10 |  10 |\n",
      "| LT2 |              5 |            0 |                     0 |   5 |\n",
      "| LT3 |             15 |            5 |                     0 |  15 |\n",
      "Target value: 5\n",
      "Option: LT2 i=2\n"
     ]
    }
   ],
   "source": [
    "from Solvers import MVDM, AHP\n",
    "my_solver = MVDM(name='Bai 1',\n",
    "                   options=['LT1', 'LT2', 'LT3'],\n",
    "                   situations=['Không kẹt xe', 'Kẹt xe vừa', 'Kẹt xe nghiệm trọng'],\n",
    "                   values=[[-15, -30, -45],\n",
    "                        [-20, -25, -35],\n",
    "                        [-30, -30, -35]])\n",
    "\n",
    "my_solver.Minimax()\n",
    "# alpha=0.4, proba=[0.5, 0.5*2/3, 0.5*1/3]\n"
   ]
  },
  {
   "cell_type": "code",
   "execution_count": 9,
   "metadata": {},
   "outputs": [
    {
     "name": "stdout",
     "output_type": "stream",
     "text": [
      "-------------ALTERNATIVES-X-CRITERIA--------------\n",
      "|    |       UI |   Database |   Network |\n",
      "|:---|---------:|-----------:|----------:|\n",
      "| A  | 0.442857 |  0.639335  | 0.63781   |\n",
      "| B  | 0.387302 |  0.273718  | 0.273089  |\n",
      "| C  | 0.169841 |  0.0869479 | 0.0891006 |\n",
      "---------------------CRITERIA---------------------\n",
      "|          |   Trong So |\n",
      "|:---------|-----------:|\n",
      "| UI       |   0.681362 |\n",
      "| Database |   0.21601  |\n",
      "| Network  |   0.102628 |\n",
      "---------------------UU TIEN----------------------\n",
      "|    |   Muc do uu tien |\n",
      "|:---|-----------------:|\n",
      "| A  |         0.505306 |\n",
      "| B  |         0.351045 |\n",
      "| C  |         0.143649 |\n",
      "\n",
      "Chon phuong an A, Muc do uu tien = 0.5053058889726355\n"
     ]
    }
   ],
   "source": [
    "solver = AHP(name='Solver1',\n",
    "             criteria=['UI', 'Database', 'Network'],\n",
    "             alternatives=['A', 'B', 'C'],\n",
    "             cvalues=[[1, 3, 7],\n",
    "                      [1/3, 1, 2],\n",
    "                      [1/7,1/2,1]],\n",
    "             avalues=[[[1,1,3],\n",
    "                       [1,1,2],\n",
    "                       [1/3,1/2,1],\n",
    "                       ],\n",
    "\n",
    "                      [[1, 3, 6],\n",
    "                       [1/3, 1, 4],\n",
    "                       [1/6, 1/4, 1]],\n",
    "\n",
    "                       [[1, 4, 5],\n",
    "                       [1/4, 1, 5],\n",
    "                       [1/5, 1/5, 1]]])\n",
    "\n",
    "solver.solve()\n"
   ]
  }
 ],
 "metadata": {
  "interpreter": {
   "hash": "804d408a887017e7920dcbdcf2c703df8203740a8664a693db878eccfce8b56f"
  },
  "kernelspec": {
   "display_name": "Python 3.10.4 ('venv': venv)",
   "language": "python",
   "name": "python3"
  },
  "language_info": {
   "codemirror_mode": {
    "name": "ipython",
    "version": 3
   },
   "file_extension": ".py",
   "mimetype": "text/x-python",
   "name": "python",
   "nbconvert_exporter": "python",
   "pygments_lexer": "ipython3",
   "version": "3.10.4"
  },
  "orig_nbformat": 4
 },
 "nbformat": 4,
 "nbformat_minor": 2
}
