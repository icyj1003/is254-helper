{
 "cells": [
  {
   "cell_type": "code",
   "execution_count": 1,
   "metadata": {},
   "outputs": [],
   "source": [
    "from Solvers import MVDM, AHP"
   ]
  },
  {
   "cell_type": "code",
   "execution_count": 2,
   "metadata": {},
   "outputs": [
    {
     "name": "stdout",
     "output_type": "stream",
     "text": [
      "Bai 1 initialized!\n",
      "--------------------------MAXIMAX---------------------------\n",
      "|              |   Thị trường tốt |   Thị trường xấu |      P |\n",
      "|:-------------|-----------------:|-----------------:|-------:|\n",
      "| Nhà máy lớn  |           200000 |          -180000 | 200000 |\n",
      "| Nhà máy nhỏ  |           100000 |           -20000 | 100000 |\n",
      "| Không làm gì |                0 |                0 |      0 |\n",
      "Target value: 200000\n",
      "Option: Nhà máy lớn i=1\n",
      "--------------------------MAXIMIN---------------------------\n",
      "|              |   Thị trường tốt |   Thị trường xấu |       P |\n",
      "|:-------------|-----------------:|-----------------:|--------:|\n",
      "| Nhà máy lớn  |           200000 |          -180000 | -180000 |\n",
      "| Nhà máy nhỏ  |           100000 |           -20000 |  -20000 |\n",
      "| Không làm gì |                0 |                0 |       0 |\n",
      "Target value: 0\n",
      "Option: Không làm gì i=3\n",
      "--------------------------LAPLACE---------------------------\n",
      "|              |   Thị trường tốt |   Thị trường xấu |     P |\n",
      "|:-------------|-----------------:|-----------------:|------:|\n",
      "| Nhà máy lớn  |           200000 |          -180000 | 10000 |\n",
      "| Nhà máy nhỏ  |           100000 |           -20000 | 40000 |\n",
      "| Không làm gì |                0 |                0 |     0 |\n",
      "Target value: 60000.0\n",
      "Option: Nhà máy nhỏ i=2\n",
      "--------------------------HURWICZ---------------------------\n",
      "|              |   Thị trường tốt |   Thị trường xấu |      P |\n",
      "|:-------------|-----------------:|-----------------:|-------:|\n",
      "| Nhà máy lớn  |           200000 |          -180000 | 124000 |\n",
      "| Nhà máy nhỏ  |           100000 |           -20000 |  76000 |\n",
      "| Không làm gì |                0 |                0 |      0 |\n",
      "Target value: 124000.0\n",
      "Option: Nhà máy lớn i=1\n",
      "--------------------------MINIMAX---------------------------\n",
      "|              |   Thị trường tốt |   Thị trường xấu |      P |\n",
      "|:-------------|-----------------:|-----------------:|-------:|\n",
      "| Nhà máy lớn  |                0 |           180000 | 180000 |\n",
      "| Nhà máy nhỏ  |           100000 |            20000 | 100000 |\n",
      "| Không làm gì |           200000 |                0 | 200000 |\n",
      "Target value: 100000\n",
      "Option: Nhà máy nhỏ i=2\n",
      "---------------------------MAXEMV---------------------------\n",
      "|              |   Thị trường tốt |   Thị trường xấu |     P |\n",
      "|:-------------|-----------------:|-----------------:|------:|\n",
      "| Nhà máy lớn  |           100000 |           -90000 | 10000 |\n",
      "| Nhà máy nhỏ  |            50000 |           -10000 | 40000 |\n",
      "| Không làm gì |                0 |                0 |     0 |\n",
      "Target value: 40000.0\n",
      "Option: Nhà máy nhỏ i=2\n",
      "---------------------------MINEOL---------------------------\n",
      "|              |   Thị trường tốt |   Thị trường xấu |      P |\n",
      "|:-------------|-----------------:|-----------------:|-------:|\n",
      "| Nhà máy lớn  |                0 |            90000 |  90000 |\n",
      "| Nhà máy nhỏ  |            50000 |            10000 |  60000 |\n",
      "| Không làm gì |           100000 |                0 | 100000 |\n",
      "Target value: 60000.0\n",
      "Option: Nhà máy nhỏ i=2\n"
     ]
    }
   ],
   "source": [
    "my_solver = MVDM(name='Bai 1',\n",
    "                   options=['Nhà máy lớn', 'Nhà máy nhỏ', 'Không làm gì'],\n",
    "                   situations=[\"Thị trường tốt\", \"Thị trường xấu\"],\n",
    "                   values=[[200000, 100000, 0],\n",
    "                           [-180000, -20000, 0]])\n",
    "\n",
    "my_solver.solveAll(alpha=0.8, proba=[0.5, 0.5])"
   ]
  },
  {
   "cell_type": "code",
   "execution_count": 3,
   "metadata": {},
   "outputs": [
    {
     "name": "stdout",
     "output_type": "stream",
     "text": [
      "-------------ALTERNATIVES-X-CRITERIA--------------\n",
      "|          |       Vị |      Giá |\n",
      "|:---------|---------:|---------:|\n",
      "| 333      | 0.117756 | 0.349159 |\n",
      "| Tiger    | 0.232993 | 0.164351 |\n",
      "| Heineken | 0.520079 | 0.104253 |\n",
      "| Huda     | 0.129173 | 0.382237 |\n",
      "---------------------CRITERIA---------------------\n",
      "|     |   Trong So |\n",
      "|:----|-----------:|\n",
      "| Vị  |   0.333333 |\n",
      "| Giá |   0.666667 |\n",
      "---------------------UU TIEN----------------------\n",
      "|          |   Muc do uu tien |\n",
      "|:---------|-----------------:|\n",
      "| 333      |         0.272025 |\n",
      "| Tiger    |         0.187232 |\n",
      "| Heineken |         0.242862 |\n",
      "| Huda     |         0.297882 |\n",
      "\n",
      "Chon phuong an Huda, Muc do uu tien = 0.2978822453395907\n"
     ]
    }
   ],
   "source": [
    "solver = AHP(name='Solver1',\n",
    "             criteria=['Vị', 'Giá'],\n",
    "             alternatives=['333', 'Tiger', 'Heineken', 'Huda'],\n",
    "             cvalues=[[1, 1/2],\n",
    "                      [2, 1]],\n",
    "             avalues=[[[1, 1/2, 1/4, 5/6],\n",
    "                       [2, 1, 2/5, 2],\n",
    "                       [4, 5/2, 1, 4],\n",
    "                       [6/5, 1/2, 1/4, 1]],\n",
    "\n",
    "                      [[1, 2, 4, 5/6],\n",
    "                       [1/2, 1, 5/4, 1/2],\n",
    "                       [1/4, 4/5, 1, 1/4], \n",
    "                       [6/5, 2, 4, 1]],])\n",
    "\n",
    "solver.solve()\n"
   ]
  }
 ],
 "metadata": {
  "interpreter": {
   "hash": "1db21b11943e1da2834260e93ce8e11c6e8010a08b7eed817767c2a77aad49ce"
  },
  "kernelspec": {
   "display_name": "Python 3.10.4 ('is254': venv)",
   "language": "python",
   "name": "python3"
  },
  "language_info": {
   "codemirror_mode": {
    "name": "ipython",
    "version": 3
   },
   "file_extension": ".py",
   "mimetype": "text/x-python",
   "name": "python",
   "nbconvert_exporter": "python",
   "pygments_lexer": "ipython3",
   "version": "3.10.4"
  },
  "orig_nbformat": 4
 },
 "nbformat": 4,
 "nbformat_minor": 2
}
